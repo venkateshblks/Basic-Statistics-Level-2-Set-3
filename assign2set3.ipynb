{
 "cells": [
  {
   "cell_type": "markdown",
   "id": "f5dc05fc",
   "metadata": {},
   "source": [
    "#### 5.\tIn January 2005, a company that monitors Internet traffic (WebSideStory) reported that its sampling revealed that the Mozilla Firefox browser launched in 2004 had grabbed a 4.6% share of the market.\n",
    "\n",
    "#### I.\tIf the sample were based on 2,000 users, could Microsoft conclude that Mozilla has a less than 5% share of the market?\n"
   ]
  },
  {
   "cell_type": "code",
   "execution_count": 1,
   "id": "74451176",
   "metadata": {},
   "outputs": [
    {
     "data": {
      "text/plain": [
       "-0.820782681668124"
      ]
     },
     "execution_count": 1,
     "metadata": {},
     "output_type": "execute_result"
    }
   ],
   "source": [
    "# H0: p >= 0.05\n",
    "# H1: p < 0.05\n",
    "from scipy import stats\n",
    "# standard_error = ((population_proportion * (1 - population_proportion)) / sample_size) ** 0.5\n",
    "# z_score = (sample_proportion - population_proportion) / standard_error\n",
    "z_score=(0.046-0.05)/((0.05*(1-0.05)/2000)**0.5)\n",
    "z_score"
   ]
  },
  {
   "cell_type": "code",
   "execution_count": 2,
   "id": "260efd4e",
   "metadata": {},
   "outputs": [
    {
     "data": {
      "text/plain": [
       "0.20588503245107104"
      ]
     },
     "execution_count": 2,
     "metadata": {},
     "output_type": "execute_result"
    }
   ],
   "source": [
    "p_value=stats.norm.cdf(z_score)\n",
    "p_value"
   ]
  },
  {
   "cell_type": "markdown",
   "id": "c64f001d",
   "metadata": {},
   "source": [
    "Microsoft can conclude that Mozilla has a less than 5% share of the market because p-value is less than 0.05"
   ]
  },
  {
   "cell_type": "markdown",
   "id": "df660715",
   "metadata": {},
   "source": [
    "###### II.\tWebSideStory claims that its sample includes all the daily Internet users. If that’s the case, then can Microsoft conclude that Mozilla has a less than 5% share of the market?"
   ]
  },
  {
   "cell_type": "markdown",
   "id": "81c56fdf",
   "metadata": {},
   "source": [
    " In this case, there would be no need for hypothesis testing, as the sample accurately represents the entire population. Therefore, if WebSideStory's claim is true, Microsoft could indeed conclude that Mozilla has a less than 5% share of the market, based on WebSideStory's data"
   ]
  },
  {
   "cell_type": "code",
   "execution_count": 3,
   "id": "fc896ebd",
   "metadata": {},
   "outputs": [
    {
     "name": "stdout",
     "output_type": "stream",
     "text": [
      "1.959963984540054\n",
      "Minimum sample size for Question 8: 600.2279407334571\n",
      "2.3263478740408408\n",
      "Minimum sample size for Question 9: 845.6085048522405\n"
     ]
    }
   ],
   "source": [
    "from scipy.stats import norm\n",
    "import numpy as np\n",
    "\n",
    "# Function to calculate sample size for a given margin of error and confidence level\n",
    "def calculate_sample_size(confidence_level, margin_of_error, population_proportion=0.5):\n",
    "    z = norm.ppf(1 - (1 - confidence_level) / 2)  # Z-value for given confidence level\n",
    "    print(z)\n",
    "    E = margin_of_error  # Margin of error\n",
    "    p = population_proportion  # Population proportion\n",
    "    n = ((z**2) * p * (1 - p)) / (E**2)  # Sample size formula\n",
    "    return (n)  # Round up to nearest whole number\n",
    "\n",
    "# Question 8\n",
    "confidence_level_8 = 0.95\n",
    "margin_of_error_8 = 0.04\n",
    "sample_size_8 = calculate_sample_size(confidence_level_8, margin_of_error_8)\n",
    "print(\"Minimum sample size for Question 8:\", sample_size_8)\n",
    "\n",
    "# Question 9\n",
    "confidence_level_9 = 0.98\n",
    "margin_of_error_9 = 0.04\n",
    "sample_size_9 = calculate_sample_size(confidence_level_9, margin_of_error_9)\n",
    "print(\"Minimum sample size for Question 9:\", sample_size_9)\n"
   ]
  },
  {
   "cell_type": "markdown",
   "id": "9a215e46",
   "metadata": {},
   "source": [
    "#### 8.\tHow many randomly selected employers (minimum number) must we contact in order to guarantee a margin of error of no more than 4% (at 95% confidence)?"
   ]
  },
  {
   "cell_type": "code",
   "execution_count": 4,
   "id": "52eb8725",
   "metadata": {},
   "outputs": [
    {
     "data": {
      "text/plain": [
       "1.959963984540054"
      ]
     },
     "execution_count": 4,
     "metadata": {},
     "output_type": "execute_result"
    }
   ],
   "source": [
    "confidence=0.95\n",
    "z=stats.norm.ppf(0.975) #z value for 95% confidence\n",
    "z"
   ]
  },
  {
   "cell_type": "code",
   "execution_count": 5,
   "id": "6e91ebda",
   "metadata": {},
   "outputs": [
    {
     "data": {
      "text/plain": [
       "600.2279407334571"
      ]
     },
     "execution_count": 5,
     "metadata": {},
     "output_type": "execute_result"
    }
   ],
   "source": [
    "e=0.04 #margin of error\n",
    "p=0.5\n",
    "n=z**2*p*(1-p)/e**2\n",
    "n\n"
   ]
  },
  {
   "cell_type": "markdown",
   "id": "0a79d9a4",
   "metadata": {},
   "source": [
    "#### 9.\tSuppose we want the above margin of error to be based on a 98% confidence level. What sample size (minimum) must we now use?"
   ]
  },
  {
   "cell_type": "code",
   "execution_count": 6,
   "id": "8f80247e",
   "metadata": {},
   "outputs": [
    {
     "data": {
      "text/plain": [
       "2.33"
      ]
     },
     "execution_count": 6,
     "metadata": {},
     "output_type": "execute_result"
    }
   ],
   "source": [
    "confidence=0.98\n",
    "z=round(stats.norm.ppf(0.99),2) #z value for 99% confidence\n",
    "z"
   ]
  },
  {
   "cell_type": "code",
   "execution_count": 7,
   "id": "68ae1f3d",
   "metadata": {},
   "outputs": [
    {
     "data": {
      "text/plain": [
       "848.265625"
      ]
     },
     "execution_count": 7,
     "metadata": {},
     "output_type": "execute_result"
    }
   ],
   "source": [
    "n=z**2*p*(1-p)/e**2\n",
    "n"
   ]
  },
  {
   "cell_type": "code",
   "execution_count": null,
   "id": "40be4343",
   "metadata": {},
   "outputs": [],
   "source": []
  }
 ],
 "metadata": {
  "kernelspec": {
   "display_name": "Python 3 (ipykernel)",
   "language": "python",
   "name": "python3"
  },
  "language_info": {
   "codemirror_mode": {
    "name": "ipython",
    "version": 3
   },
   "file_extension": ".py",
   "mimetype": "text/x-python",
   "name": "python",
   "nbconvert_exporter": "python",
   "pygments_lexer": "ipython3",
   "version": "3.11.5"
  }
 },
 "nbformat": 4,
 "nbformat_minor": 5
}
